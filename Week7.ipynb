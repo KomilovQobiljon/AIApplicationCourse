{
  "nbformat": 4,
  "nbformat_minor": 0,
  "metadata": {
    "colab": {
      "provenance": [],
      "authorship_tag": "ABX9TyN/kiFnlXXhpLL0RUx4ImBv",
      "include_colab_link": true
    },
    "kernelspec": {
      "name": "python3",
      "display_name": "Python 3"
    },
    "language_info": {
      "name": "python"
    },
    "widgets": {
      "application/vnd.jupyter.widget-state+json": {
        "ccadf9074d944f87bddc582c7aeb2291": {
          "model_module": "@jupyter-widgets/controls",
          "model_name": "HBoxModel",
          "model_module_version": "1.5.0",
          "state": {
            "_dom_classes": [],
            "_model_module": "@jupyter-widgets/controls",
            "_model_module_version": "1.5.0",
            "_model_name": "HBoxModel",
            "_view_count": null,
            "_view_module": "@jupyter-widgets/controls",
            "_view_module_version": "1.5.0",
            "_view_name": "HBoxView",
            "box_style": "",
            "children": [
              "IPY_MODEL_014fb64fe4ed416bbc06b1419f3fda20",
              "IPY_MODEL_a9ddaae7ebbc4b98a8f311ae322992bd",
              "IPY_MODEL_dbaa1c7c7c5740c395cb079d32543d88"
            ],
            "layout": "IPY_MODEL_beb4c228f4bc4971bc94851a16e22d03"
          }
        },
        "014fb64fe4ed416bbc06b1419f3fda20": {
          "model_module": "@jupyter-widgets/controls",
          "model_name": "HTMLModel",
          "model_module_version": "1.5.0",
          "state": {
            "_dom_classes": [],
            "_model_module": "@jupyter-widgets/controls",
            "_model_module_version": "1.5.0",
            "_model_name": "HTMLModel",
            "_view_count": null,
            "_view_module": "@jupyter-widgets/controls",
            "_view_module_version": "1.5.0",
            "_view_name": "HTMLView",
            "description": "",
            "description_tooltip": null,
            "layout": "IPY_MODEL_09eca74b201a433196ede024e7fd6c4f",
            "placeholder": "​",
            "style": "IPY_MODEL_bb19040adaf44dd681c5917255a496cd",
            "value": "100%"
          }
        },
        "a9ddaae7ebbc4b98a8f311ae322992bd": {
          "model_module": "@jupyter-widgets/controls",
          "model_name": "FloatProgressModel",
          "model_module_version": "1.5.0",
          "state": {
            "_dom_classes": [],
            "_model_module": "@jupyter-widgets/controls",
            "_model_module_version": "1.5.0",
            "_model_name": "FloatProgressModel",
            "_view_count": null,
            "_view_module": "@jupyter-widgets/controls",
            "_view_module_version": "1.5.0",
            "_view_name": "ProgressView",
            "bar_style": "success",
            "description": "",
            "description_tooltip": null,
            "layout": "IPY_MODEL_a1b3828f5ce24f419e2cbe34657b2d89",
            "max": 170498071,
            "min": 0,
            "orientation": "horizontal",
            "style": "IPY_MODEL_606b004a0a544f44bd80fd134b202947",
            "value": 170498071
          }
        },
        "dbaa1c7c7c5740c395cb079d32543d88": {
          "model_module": "@jupyter-widgets/controls",
          "model_name": "HTMLModel",
          "model_module_version": "1.5.0",
          "state": {
            "_dom_classes": [],
            "_model_module": "@jupyter-widgets/controls",
            "_model_module_version": "1.5.0",
            "_model_name": "HTMLModel",
            "_view_count": null,
            "_view_module": "@jupyter-widgets/controls",
            "_view_module_version": "1.5.0",
            "_view_name": "HTMLView",
            "description": "",
            "description_tooltip": null,
            "layout": "IPY_MODEL_f62524525bcc487aa36900149b00faff",
            "placeholder": "​",
            "style": "IPY_MODEL_8a6e80d0c51b4865bba71fd6cdee34eb",
            "value": " 170498071/170498071 [00:04&lt;00:00, 37560857.71it/s]"
          }
        },
        "beb4c228f4bc4971bc94851a16e22d03": {
          "model_module": "@jupyter-widgets/base",
          "model_name": "LayoutModel",
          "model_module_version": "1.2.0",
          "state": {
            "_model_module": "@jupyter-widgets/base",
            "_model_module_version": "1.2.0",
            "_model_name": "LayoutModel",
            "_view_count": null,
            "_view_module": "@jupyter-widgets/base",
            "_view_module_version": "1.2.0",
            "_view_name": "LayoutView",
            "align_content": null,
            "align_items": null,
            "align_self": null,
            "border": null,
            "bottom": null,
            "display": null,
            "flex": null,
            "flex_flow": null,
            "grid_area": null,
            "grid_auto_columns": null,
            "grid_auto_flow": null,
            "grid_auto_rows": null,
            "grid_column": null,
            "grid_gap": null,
            "grid_row": null,
            "grid_template_areas": null,
            "grid_template_columns": null,
            "grid_template_rows": null,
            "height": null,
            "justify_content": null,
            "justify_items": null,
            "left": null,
            "margin": null,
            "max_height": null,
            "max_width": null,
            "min_height": null,
            "min_width": null,
            "object_fit": null,
            "object_position": null,
            "order": null,
            "overflow": null,
            "overflow_x": null,
            "overflow_y": null,
            "padding": null,
            "right": null,
            "top": null,
            "visibility": null,
            "width": null
          }
        },
        "09eca74b201a433196ede024e7fd6c4f": {
          "model_module": "@jupyter-widgets/base",
          "model_name": "LayoutModel",
          "model_module_version": "1.2.0",
          "state": {
            "_model_module": "@jupyter-widgets/base",
            "_model_module_version": "1.2.0",
            "_model_name": "LayoutModel",
            "_view_count": null,
            "_view_module": "@jupyter-widgets/base",
            "_view_module_version": "1.2.0",
            "_view_name": "LayoutView",
            "align_content": null,
            "align_items": null,
            "align_self": null,
            "border": null,
            "bottom": null,
            "display": null,
            "flex": null,
            "flex_flow": null,
            "grid_area": null,
            "grid_auto_columns": null,
            "grid_auto_flow": null,
            "grid_auto_rows": null,
            "grid_column": null,
            "grid_gap": null,
            "grid_row": null,
            "grid_template_areas": null,
            "grid_template_columns": null,
            "grid_template_rows": null,
            "height": null,
            "justify_content": null,
            "justify_items": null,
            "left": null,
            "margin": null,
            "max_height": null,
            "max_width": null,
            "min_height": null,
            "min_width": null,
            "object_fit": null,
            "object_position": null,
            "order": null,
            "overflow": null,
            "overflow_x": null,
            "overflow_y": null,
            "padding": null,
            "right": null,
            "top": null,
            "visibility": null,
            "width": null
          }
        },
        "bb19040adaf44dd681c5917255a496cd": {
          "model_module": "@jupyter-widgets/controls",
          "model_name": "DescriptionStyleModel",
          "model_module_version": "1.5.0",
          "state": {
            "_model_module": "@jupyter-widgets/controls",
            "_model_module_version": "1.5.0",
            "_model_name": "DescriptionStyleModel",
            "_view_count": null,
            "_view_module": "@jupyter-widgets/base",
            "_view_module_version": "1.2.0",
            "_view_name": "StyleView",
            "description_width": ""
          }
        },
        "a1b3828f5ce24f419e2cbe34657b2d89": {
          "model_module": "@jupyter-widgets/base",
          "model_name": "LayoutModel",
          "model_module_version": "1.2.0",
          "state": {
            "_model_module": "@jupyter-widgets/base",
            "_model_module_version": "1.2.0",
            "_model_name": "LayoutModel",
            "_view_count": null,
            "_view_module": "@jupyter-widgets/base",
            "_view_module_version": "1.2.0",
            "_view_name": "LayoutView",
            "align_content": null,
            "align_items": null,
            "align_self": null,
            "border": null,
            "bottom": null,
            "display": null,
            "flex": null,
            "flex_flow": null,
            "grid_area": null,
            "grid_auto_columns": null,
            "grid_auto_flow": null,
            "grid_auto_rows": null,
            "grid_column": null,
            "grid_gap": null,
            "grid_row": null,
            "grid_template_areas": null,
            "grid_template_columns": null,
            "grid_template_rows": null,
            "height": null,
            "justify_content": null,
            "justify_items": null,
            "left": null,
            "margin": null,
            "max_height": null,
            "max_width": null,
            "min_height": null,
            "min_width": null,
            "object_fit": null,
            "object_position": null,
            "order": null,
            "overflow": null,
            "overflow_x": null,
            "overflow_y": null,
            "padding": null,
            "right": null,
            "top": null,
            "visibility": null,
            "width": null
          }
        },
        "606b004a0a544f44bd80fd134b202947": {
          "model_module": "@jupyter-widgets/controls",
          "model_name": "ProgressStyleModel",
          "model_module_version": "1.5.0",
          "state": {
            "_model_module": "@jupyter-widgets/controls",
            "_model_module_version": "1.5.0",
            "_model_name": "ProgressStyleModel",
            "_view_count": null,
            "_view_module": "@jupyter-widgets/base",
            "_view_module_version": "1.2.0",
            "_view_name": "StyleView",
            "bar_color": null,
            "description_width": ""
          }
        },
        "f62524525bcc487aa36900149b00faff": {
          "model_module": "@jupyter-widgets/base",
          "model_name": "LayoutModel",
          "model_module_version": "1.2.0",
          "state": {
            "_model_module": "@jupyter-widgets/base",
            "_model_module_version": "1.2.0",
            "_model_name": "LayoutModel",
            "_view_count": null,
            "_view_module": "@jupyter-widgets/base",
            "_view_module_version": "1.2.0",
            "_view_name": "LayoutView",
            "align_content": null,
            "align_items": null,
            "align_self": null,
            "border": null,
            "bottom": null,
            "display": null,
            "flex": null,
            "flex_flow": null,
            "grid_area": null,
            "grid_auto_columns": null,
            "grid_auto_flow": null,
            "grid_auto_rows": null,
            "grid_column": null,
            "grid_gap": null,
            "grid_row": null,
            "grid_template_areas": null,
            "grid_template_columns": null,
            "grid_template_rows": null,
            "height": null,
            "justify_content": null,
            "justify_items": null,
            "left": null,
            "margin": null,
            "max_height": null,
            "max_width": null,
            "min_height": null,
            "min_width": null,
            "object_fit": null,
            "object_position": null,
            "order": null,
            "overflow": null,
            "overflow_x": null,
            "overflow_y": null,
            "padding": null,
            "right": null,
            "top": null,
            "visibility": null,
            "width": null
          }
        },
        "8a6e80d0c51b4865bba71fd6cdee34eb": {
          "model_module": "@jupyter-widgets/controls",
          "model_name": "DescriptionStyleModel",
          "model_module_version": "1.5.0",
          "state": {
            "_model_module": "@jupyter-widgets/controls",
            "_model_module_version": "1.5.0",
            "_model_name": "DescriptionStyleModel",
            "_view_count": null,
            "_view_module": "@jupyter-widgets/base",
            "_view_module_version": "1.2.0",
            "_view_name": "StyleView",
            "description_width": ""
          }
        }
      }
    }
  },
  "cells": [
    {
      "cell_type": "markdown",
      "metadata": {
        "id": "view-in-github",
        "colab_type": "text"
      },
      "source": [
        "<a href=\"https://colab.research.google.com/github/KomilovQobiljon/AIApplicationCourse/blob/main/Week7.ipynb\" target=\"_parent\"><img src=\"https://colab.research.google.com/assets/colab-badge.svg\" alt=\"Open In Colab\"/></a>"
      ]
    },
    {
      "cell_type": "code",
      "execution_count": 1,
      "metadata": {
        "colab": {
          "base_uri": "https://localhost:8080/",
          "height": 191,
          "referenced_widgets": [
            "ccadf9074d944f87bddc582c7aeb2291",
            "014fb64fe4ed416bbc06b1419f3fda20",
            "a9ddaae7ebbc4b98a8f311ae322992bd",
            "dbaa1c7c7c5740c395cb079d32543d88",
            "beb4c228f4bc4971bc94851a16e22d03",
            "09eca74b201a433196ede024e7fd6c4f",
            "bb19040adaf44dd681c5917255a496cd",
            "a1b3828f5ce24f419e2cbe34657b2d89",
            "606b004a0a544f44bd80fd134b202947",
            "f62524525bcc487aa36900149b00faff",
            "8a6e80d0c51b4865bba71fd6cdee34eb"
          ]
        },
        "id": "jkopojlFAga8",
        "outputId": "191b1cea-17ea-40cd-c194-3a378072b4a3"
      },
      "outputs": [
        {
          "output_type": "stream",
          "name": "stdout",
          "text": [
            "Downloading https://www.cs.toronto.edu/~kriz/cifar-10-python.tar.gz to ./pt_data/cifar-10-python.tar.gz\n"
          ]
        },
        {
          "output_type": "display_data",
          "data": {
            "text/plain": [
              "  0%|          | 0/170498071 [00:00<?, ?it/s]"
            ],
            "application/vnd.jupyter.widget-view+json": {
              "version_major": 2,
              "version_minor": 0,
              "model_id": "ccadf9074d944f87bddc582c7aeb2291"
            }
          },
          "metadata": {}
        },
        {
          "output_type": "stream",
          "name": "stdout",
          "text": [
            "Extracting ./pt_data/cifar-10-python.tar.gz to ./pt_data\n",
            "Category:  8\n"
          ]
        },
        {
          "output_type": "display_data",
          "data": {
            "text/plain": [
              "<Figure size 72x72 with 1 Axes>"
            ],
            "image/png": "[encoded data removed]"
          },
          "metadata": {
            "needs_background": "light"
          }
        }
      ],
      "source": [
        "import torchvision \n",
        "import torchvision.transforms as transforms \n",
        "from torchvision.datasets import CIFAR10 \n",
        "from torch.utils.data import DataLoader \n",
        "import numpy as np \n",
        "import matplotlib.pyplot as plt\n",
        "\n",
        "# Load training dataset into a single batch. \n",
        "transform = transforms.Compose([transforms.ToTensor()]) \n",
        "trainset = CIFAR10(root='./pt_data', train=True, download=True, transform=transform) \n",
        "trainloader = DataLoader(trainset, batch_size=len(trainset), shuffle=False) \n",
        "data = next(iter(trainloader)) \n",
        "# Convert to numpy arrays of correct shape for plotting. \n",
        "train_images = data[0].numpy() \n",
        "train_images = np.moveaxis(train_images, 1, 3) \n",
        "train_labels = data[1].numpy()\n",
        "\n",
        "print('Category: ', train_labels[100]) \n",
        "plt.figure(figsize=(1, 1)) \n",
        "plt.imshow(train_images[100]) \n",
        "plt.show() "
      ]
    },
    {
      "cell_type": "code",
      "source": [
        "!pip install requests"
      ],
      "metadata": {
        "colab": {
          "base_uri": "https://localhost:8080/"
        },
        "id": "RYJdD0bUAzjH",
        "outputId": "97d1fb8d-60cf-40aa-db44-2541d0673234"
      },
      "execution_count": 2,
      "outputs": [
        {
          "output_type": "stream",
          "name": "stdout",
          "text": [
            "Looking in indexes: https://pypi.org/simple, https://us-python.pkg.dev/colab-wheels/public/simple/\n",
            "Requirement already satisfied: requests in /usr/local/lib/python3.7/dist-packages (2.23.0)\n",
            "Requirement already satisfied: certifi>=2017.4.17 in /usr/local/lib/python3.7/dist-packages (from requests) (2022.9.24)\n",
            "Requirement already satisfied: urllib3!=1.25.0,!=1.25.1,<1.26,>=1.21.1 in /usr/local/lib/python3.7/dist-packages (from requests) (1.24.3)\n",
            "Requirement already satisfied: idna<3,>=2.5 in /usr/local/lib/python3.7/dist-packages (from requests) (2.10)\n",
            "Requirement already satisfied: chardet<4,>=3.0.2 in /usr/local/lib/python3.7/dist-packages (from requests) (3.0.4)\n"
          ]
        }
      ]
    },
    {
      "cell_type": "code",
      "source": [
        "import requests \n",
        "url='https://raw.githubusercontent.com/NVDLI/LDL/main/pt_framework/utilities.py'\n",
        "r=requests.get(url)\n",
        "\n",
        "with open('utilities.py','w') as f:\n",
        "  f.write(r.text)"
      ],
      "metadata": {
        "id": "dBuNiqL6A3Bw"
      },
      "execution_count": 3,
      "outputs": []
    },
    {
      "cell_type": "code",
      "source": [
        "import torch \n",
        "import torch.nn as nn \n",
        "import torchvision \n",
        "import torchvision.transforms as transforms \n",
        "from torchvision.datasets import CIFAR10 \n",
        "from torch.utils.data import DataLoader \n",
        "import numpy as np \n",
        "from utilities import train_model \n",
        "device = torch.device('cuda:0' if torch.cuda.is_available() else \"cpu\") \n",
        "EPOCHS = 128 \n",
        "BATCH_SIZE = 32 \n",
        "# Load training dataset into a single batch to compute mean and stddev. \n",
        "transform = transforms.Compose([transforms.ToTensor()]) \n",
        "trainset = CIFAR10(root='./pt_data', train=True, download=True, transform=transform) \n",
        "trainloader = DataLoader(trainset, batch_size=len(trainset), shuffle=False) \n",
        "data = next(iter(trainloader)) \n",
        "mean = data[0].mean() \n",
        "stddev = data[0].std()"
      ],
      "metadata": {
        "colab": {
          "base_uri": "https://localhost:8080/"
        },
        "id": "6GMBKhsiA5np",
        "outputId": "4ffb5a4c-8381-4088-f270-6c0de3cfe5f7"
      },
      "execution_count": 4,
      "outputs": [
        {
          "output_type": "stream",
          "name": "stdout",
          "text": [
            "Files already downloaded and verified\n"
          ]
        }
      ]
    },
    {
      "cell_type": "code",
      "source": [
        "transform=transforms.Compose( \n",
        "    [transforms.ToTensor(),\n",
        "     transforms.Normalize(mean,stddev)])\n",
        "\n",
        "trainset = CIFAR10(root='./pt_data', train=True, download=True,transform=transform) \n",
        "testset = CIFAR10(root='./pt_data', train=False, download=True,transform=transform)\n",
        "\n",
        "\n",
        "model = nn. Sequential(\n",
        "    nn.Conv2d(3, 64, 5, stride=2, padding=2),\n",
        "    nn.ReLU(),\n",
        "    nn. Conv2d(64, 64, 3, stride=2, padding=1),\n",
        "    nn.ReLU(),\n",
        "    nn.Flatten(),\n",
        "    nn.Linear (64*8*8, 10)\n",
        ")"
      ],
      "metadata": {
        "colab": {
          "base_uri": "https://localhost:8080/"
        },
        "id": "xt54SGeXBD8U",
        "outputId": "bb8ab028-0098-4dc1-df27-8e9a4ada159e"
      },
      "execution_count": 6,
      "outputs": [
        {
          "output_type": "stream",
          "name": "stdout",
          "text": [
            "Files already downloaded and verified\n",
            "Files already downloaded and verified\n"
          ]
        }
      ]
    },
    {
      "cell_type": "code",
      "source": [
        "layers = next (model.modules())\n",
        "conv_layer0=layers[0]\n",
        "\n",
        "conv_layer1=layers[2]\n",
        "\n",
        "output_layer=layers[5]\n",
        "\n",
        "\n",
        "nn.init.kaiming_normal_(conv_layer0.weight)\n",
        "\n",
        "nn.init.constant(conv_layer0.bias,0.0)\n",
        "\n",
        "nn.init.kaiming_normal_(conv_layer1.weight)\n",
        "\n",
        "nn.init.constant (conv_layer1.bias, 0.0)\n",
        "\n",
        "nn. init.xavier_uniform (output_layer.weight)\n",
        "\n",
        "nn.init.constant (output_layer.bias, 0.0)\n",
        "\n",
        "optimizer = torch.optim.Adam(model.parameters()) \n",
        "loss_function = nn.CrossEntropyLoss()\n",
        "\n",
        "train_model(model, device, EPOCHS, BATCH_SIZE, trainset, testset, optimizer, loss_function, 'acc')"
      ],
      "metadata": {
        "colab": {
          "base_uri": "https://localhost:8080/",
          "height": 1000
        },
        "id": "LKmFTv0KBO_3",
        "outputId": "7e05ddab-34e9-4d0f-88ad-422be7fef4a2"
      },
      "execution_count": 7,
      "outputs": [
        {
          "output_type": "stream",
          "name": "stderr",
          "text": [
            "/usr/local/lib/python3.7/dist-packages/ipykernel_launcher.py:11: UserWarning: nn.init.constant is now deprecated in favor of nn.init.constant_.\n",
            "  # This is added back by InteractiveShellApp.init_path()\n",
            "/usr/local/lib/python3.7/dist-packages/ipykernel_launcher.py:15: UserWarning: nn.init.constant is now deprecated in favor of nn.init.constant_.\n",
            "  from ipykernel import kernelapp as app\n",
            "/usr/local/lib/python3.7/dist-packages/ipykernel_launcher.py:17: UserWarning: nn.init.xavier_uniform is now deprecated in favor of nn.init.xavier_uniform_.\n",
            "/usr/local/lib/python3.7/dist-packages/ipykernel_launcher.py:19: UserWarning: nn.init.constant is now deprecated in favor of nn.init.constant_.\n"
          ]
        },
        {
          "output_type": "stream",
          "name": "stdout",
          "text": [
            "Epoch 1/128 loss: 1.4003 - acc: 0.5075 - val_loss: 1.1637 - val_acc: 0.5896\n",
            "Epoch 2/128 loss: 1.0538 - acc: 0.6336 - val_loss: 1.0559 - val_acc: 0.6280\n",
            "Epoch 3/128 loss: 0.9026 - acc: 0.6867 - val_loss: 1.0165 - val_acc: 0.6517\n",
            "Epoch 4/128 loss: 0.7931 - acc: 0.7226 - val_loss: 1.0032 - val_acc: 0.6563\n",
            "Epoch 5/128 loss: 0.7132 - acc: 0.7506 - val_loss: 1.0260 - val_acc: 0.6592\n",
            "Epoch 6/128 loss: 0.6441 - acc: 0.7745 - val_loss: 1.0931 - val_acc: 0.6513\n",
            "Epoch 7/128 loss: 0.5826 - acc: 0.7961 - val_loss: 1.1312 - val_acc: 0.6517\n",
            "Epoch 8/128 loss: 0.5320 - acc: 0.8128 - val_loss: 1.1979 - val_acc: 0.6524\n",
            "Epoch 9/128 loss: 0.4886 - acc: 0.8278 - val_loss: 1.2423 - val_acc: 0.6478\n",
            "Epoch 10/128 loss: 0.4459 - acc: 0.8403 - val_loss: 1.3255 - val_acc: 0.6472\n",
            "Epoch 11/128 loss: 0.4079 - acc: 0.8555 - val_loss: 1.4390 - val_acc: 0.6342\n",
            "Epoch 12/128 loss: 0.3714 - acc: 0.8657 - val_loss: 1.5624 - val_acc: 0.6328\n",
            "Epoch 13/128 loss: 0.3518 - acc: 0.8735 - val_loss: 1.6265 - val_acc: 0.6383\n",
            "Epoch 14/128 loss: 0.3247 - acc: 0.8818 - val_loss: 1.7450 - val_acc: 0.6334\n",
            "Epoch 15/128 loss: 0.3006 - acc: 0.8928 - val_loss: 1.7998 - val_acc: 0.6274\n",
            "Epoch 16/128 loss: 0.2819 - acc: 0.8982 - val_loss: 1.8710 - val_acc: 0.6274\n",
            "Epoch 17/128 loss: 0.2639 - acc: 0.9050 - val_loss: 2.0288 - val_acc: 0.6263\n",
            "Epoch 18/128 loss: 0.2441 - acc: 0.9108 - val_loss: 2.1208 - val_acc: 0.6262\n",
            "Epoch 19/128 loss: 0.2412 - acc: 0.9129 - val_loss: 2.2096 - val_acc: 0.6317\n",
            "Epoch 20/128 loss: 0.2190 - acc: 0.9196 - val_loss: 2.3396 - val_acc: 0.6197\n",
            "Epoch 21/128 loss: 0.2147 - acc: 0.9220 - val_loss: 2.3936 - val_acc: 0.6247\n",
            "Epoch 22/128 loss: 0.2075 - acc: 0.9250 - val_loss: 2.5091 - val_acc: 0.6306\n",
            "Epoch 23/128 loss: 0.1907 - acc: 0.9318 - val_loss: 2.6261 - val_acc: 0.6221\n",
            "Epoch 24/128 loss: 0.1934 - acc: 0.9303 - val_loss: 2.7389 - val_acc: 0.6131\n",
            "Epoch 25/128 loss: 0.1779 - acc: 0.9364 - val_loss: 2.7671 - val_acc: 0.6117\n",
            "Epoch 26/128 loss: 0.1813 - acc: 0.9355 - val_loss: 2.8736 - val_acc: 0.6186\n",
            "Epoch 27/128 loss: 0.1760 - acc: 0.9370 - val_loss: 2.9482 - val_acc: 0.6204\n",
            "Epoch 28/128 loss: 0.1577 - acc: 0.9447 - val_loss: 3.1006 - val_acc: 0.6249\n",
            "Epoch 29/128 loss: 0.1681 - acc: 0.9399 - val_loss: 3.2271 - val_acc: 0.6242\n",
            "Epoch 30/128 loss: 0.1593 - acc: 0.9439 - val_loss: 3.3057 - val_acc: 0.6202\n",
            "Epoch 31/128 loss: 0.1537 - acc: 0.9461 - val_loss: 3.4229 - val_acc: 0.6185\n",
            "Epoch 32/128 loss: 0.1435 - acc: 0.9502 - val_loss: 3.5058 - val_acc: 0.6206\n",
            "Epoch 33/128 loss: 0.1531 - acc: 0.9463 - val_loss: 3.5654 - val_acc: 0.6225\n",
            "Epoch 34/128 loss: 0.1514 - acc: 0.9484 - val_loss: 3.6872 - val_acc: 0.6072\n",
            "Epoch 35/128 loss: 0.1513 - acc: 0.9491 - val_loss: 3.7254 - val_acc: 0.6202\n",
            "Epoch 36/128 loss: 0.1447 - acc: 0.9519 - val_loss: 3.9397 - val_acc: 0.6145\n",
            "Epoch 37/128 loss: 0.1465 - acc: 0.9506 - val_loss: 3.8852 - val_acc: 0.6247\n",
            "Epoch 38/128 loss: 0.1416 - acc: 0.9526 - val_loss: 4.0093 - val_acc: 0.6154\n",
            "Epoch 39/128 loss: 0.1444 - acc: 0.9519 - val_loss: 4.0457 - val_acc: 0.6181\n",
            "Epoch 40/128 loss: 0.1393 - acc: 0.9541 - val_loss: 4.1797 - val_acc: 0.6186\n",
            "Epoch 41/128 loss: 0.1383 - acc: 0.9552 - val_loss: 4.3018 - val_acc: 0.6156\n",
            "Epoch 42/128 loss: 0.1394 - acc: 0.9550 - val_loss: 4.4025 - val_acc: 0.6203\n",
            "Epoch 43/128 loss: 0.1461 - acc: 0.9535 - val_loss: 4.4556 - val_acc: 0.6180\n",
            "Epoch 44/128 loss: 0.1362 - acc: 0.9574 - val_loss: 4.6462 - val_acc: 0.6230\n",
            "Epoch 45/128 loss: 0.1378 - acc: 0.9571 - val_loss: 4.6370 - val_acc: 0.6153\n",
            "Epoch 46/128 loss: 0.1431 - acc: 0.9548 - val_loss: 4.7800 - val_acc: 0.6201\n",
            "Epoch 47/128 loss: 0.1326 - acc: 0.9582 - val_loss: 4.8929 - val_acc: 0.6185\n",
            "Epoch 48/128 loss: 0.1350 - acc: 0.9591 - val_loss: 5.0627 - val_acc: 0.6139\n",
            "Epoch 49/128 loss: 0.1393 - acc: 0.9585 - val_loss: 5.0208 - val_acc: 0.6134\n",
            "Epoch 50/128 loss: 0.1284 - acc: 0.9608 - val_loss: 5.1833 - val_acc: 0.6160\n",
            "Epoch 51/128 loss: 0.1314 - acc: 0.9607 - val_loss: 5.1485 - val_acc: 0.6165\n",
            "Epoch 52/128 loss: 0.1356 - acc: 0.9590 - val_loss: 5.2105 - val_acc: 0.6144\n",
            "Epoch 53/128 loss: 0.1313 - acc: 0.9608 - val_loss: 5.3284 - val_acc: 0.6166\n",
            "Epoch 54/128 loss: 0.1363 - acc: 0.9613 - val_loss: 5.3628 - val_acc: 0.6204\n",
            "Epoch 55/128 loss: 0.1342 - acc: 0.9617 - val_loss: 5.5542 - val_acc: 0.6190\n",
            "Epoch 56/128 loss: 0.1242 - acc: 0.9638 - val_loss: 5.5108 - val_acc: 0.6173\n",
            "Epoch 57/128 loss: 0.1378 - acc: 0.9610 - val_loss: 5.6906 - val_acc: 0.6150\n",
            "Epoch 58/128 loss: 0.1235 - acc: 0.9634 - val_loss: 5.7405 - val_acc: 0.6233\n",
            "Epoch 59/128 loss: 0.1350 - acc: 0.9625 - val_loss: 6.0216 - val_acc: 0.6191\n",
            "Epoch 60/128 loss: 0.1331 - acc: 0.9622 - val_loss: 6.1466 - val_acc: 0.6228\n",
            "Epoch 61/128 loss: 0.1230 - acc: 0.9659 - val_loss: 6.1681 - val_acc: 0.6175\n",
            "Epoch 62/128 loss: 0.1381 - acc: 0.9629 - val_loss: 6.2407 - val_acc: 0.6172\n"
          ]
        },
        {
          "output_type": "error",
          "ename": "KeyboardInterrupt",
          "evalue": "ignored",
          "traceback": [
            "\u001b[0;31m---------------------------------------------------------------------------\u001b[0m",
            "\u001b[0;31mKeyboardInterrupt\u001b[0m                         Traceback (most recent call last)",
            "\u001b[0;32m<ipython-input-7-7e6094ce773e>\u001b[0m in \u001b[0;36m<module>\u001b[0;34m\u001b[0m\n\u001b[1;32m     22\u001b[0m \u001b[0mloss_function\u001b[0m \u001b[0;34m=\u001b[0m \u001b[0mnn\u001b[0m\u001b[0;34m.\u001b[0m\u001b[0mCrossEntropyLoss\u001b[0m\u001b[0;34m(\u001b[0m\u001b[0;34m)\u001b[0m\u001b[0;34m\u001b[0m\u001b[0;34m\u001b[0m\u001b[0m\n\u001b[1;32m     23\u001b[0m \u001b[0;34m\u001b[0m\u001b[0m\n\u001b[0;32m---> 24\u001b[0;31m \u001b[0mtrain_model\u001b[0m\u001b[0;34m(\u001b[0m\u001b[0mmodel\u001b[0m\u001b[0;34m,\u001b[0m \u001b[0mdevice\u001b[0m\u001b[0;34m,\u001b[0m \u001b[0mEPOCHS\u001b[0m\u001b[0;34m,\u001b[0m \u001b[0mBATCH_SIZE\u001b[0m\u001b[0;34m,\u001b[0m \u001b[0mtrainset\u001b[0m\u001b[0;34m,\u001b[0m \u001b[0mtestset\u001b[0m\u001b[0;34m,\u001b[0m \u001b[0moptimizer\u001b[0m\u001b[0;34m,\u001b[0m \u001b[0mloss_function\u001b[0m\u001b[0;34m,\u001b[0m \u001b[0;34m'acc'\u001b[0m\u001b[0;34m)\u001b[0m\u001b[0;34m\u001b[0m\u001b[0;34m\u001b[0m\u001b[0m\n\u001b[0m",
            "\u001b[0;32m/content/utilities.py\u001b[0m in \u001b[0;36mtrain_model\u001b[0;34m(model, device, epochs, batch_size, trainset, testset, optimizer, loss_function, metric)\u001b[0m\n\u001b[1;32m     73\u001b[0m \u001b[0;34m\u001b[0m\u001b[0m\n\u001b[1;32m     74\u001b[0m             \u001b[0;31m# Backward pass and update.\u001b[0m\u001b[0;34m\u001b[0m\u001b[0;34m\u001b[0m\u001b[0;34m\u001b[0m\u001b[0m\n\u001b[0;32m---> 75\u001b[0;31m             \u001b[0mloss\u001b[0m\u001b[0;34m.\u001b[0m\u001b[0mbackward\u001b[0m\u001b[0;34m(\u001b[0m\u001b[0;34m)\u001b[0m\u001b[0;34m\u001b[0m\u001b[0;34m\u001b[0m\u001b[0m\n\u001b[0m\u001b[1;32m     76\u001b[0m             \u001b[0moptimizer\u001b[0m\u001b[0;34m.\u001b[0m\u001b[0mstep\u001b[0m\u001b[0;34m(\u001b[0m\u001b[0;34m)\u001b[0m\u001b[0;34m\u001b[0m\u001b[0;34m\u001b[0m\u001b[0m\n\u001b[1;32m     77\u001b[0m \u001b[0;34m\u001b[0m\u001b[0m\n",
            "\u001b[0;32m/usr/local/lib/python3.7/dist-packages/torch/_tensor.py\u001b[0m in \u001b[0;36mbackward\u001b[0;34m(self, gradient, retain_graph, create_graph, inputs)\u001b[0m\n\u001b[1;32m    394\u001b[0m                 \u001b[0mcreate_graph\u001b[0m\u001b[0;34m=\u001b[0m\u001b[0mcreate_graph\u001b[0m\u001b[0;34m,\u001b[0m\u001b[0;34m\u001b[0m\u001b[0;34m\u001b[0m\u001b[0m\n\u001b[1;32m    395\u001b[0m                 inputs=inputs)\n\u001b[0;32m--> 396\u001b[0;31m         \u001b[0mtorch\u001b[0m\u001b[0;34m.\u001b[0m\u001b[0mautograd\u001b[0m\u001b[0;34m.\u001b[0m\u001b[0mbackward\u001b[0m\u001b[0;34m(\u001b[0m\u001b[0mself\u001b[0m\u001b[0;34m,\u001b[0m \u001b[0mgradient\u001b[0m\u001b[0;34m,\u001b[0m \u001b[0mretain_graph\u001b[0m\u001b[0;34m,\u001b[0m \u001b[0mcreate_graph\u001b[0m\u001b[0;34m,\u001b[0m \u001b[0minputs\u001b[0m\u001b[0;34m=\u001b[0m\u001b[0minputs\u001b[0m\u001b[0;34m)\u001b[0m\u001b[0;34m\u001b[0m\u001b[0;34m\u001b[0m\u001b[0m\n\u001b[0m\u001b[1;32m    397\u001b[0m \u001b[0;34m\u001b[0m\u001b[0m\n\u001b[1;32m    398\u001b[0m     \u001b[0;32mdef\u001b[0m \u001b[0mregister_hook\u001b[0m\u001b[0;34m(\u001b[0m\u001b[0mself\u001b[0m\u001b[0;34m,\u001b[0m \u001b[0mhook\u001b[0m\u001b[0;34m)\u001b[0m\u001b[0;34m:\u001b[0m\u001b[0;34m\u001b[0m\u001b[0;34m\u001b[0m\u001b[0m\n",
            "\u001b[0;32m/usr/local/lib/python3.7/dist-packages/torch/autograd/__init__.py\u001b[0m in \u001b[0;36mbackward\u001b[0;34m(tensors, grad_tensors, retain_graph, create_graph, grad_variables, inputs)\u001b[0m\n\u001b[1;32m    173\u001b[0m     Variable._execution_engine.run_backward(  # Calls into the C++ engine to run the backward pass\n\u001b[1;32m    174\u001b[0m         \u001b[0mtensors\u001b[0m\u001b[0;34m,\u001b[0m \u001b[0mgrad_tensors_\u001b[0m\u001b[0;34m,\u001b[0m \u001b[0mretain_graph\u001b[0m\u001b[0;34m,\u001b[0m \u001b[0mcreate_graph\u001b[0m\u001b[0;34m,\u001b[0m \u001b[0minputs\u001b[0m\u001b[0;34m,\u001b[0m\u001b[0;34m\u001b[0m\u001b[0;34m\u001b[0m\u001b[0m\n\u001b[0;32m--> 175\u001b[0;31m         allow_unreachable=True, accumulate_grad=True)  # Calls into the C++ engine to run the backward pass\n\u001b[0m\u001b[1;32m    176\u001b[0m \u001b[0;34m\u001b[0m\u001b[0m\n\u001b[1;32m    177\u001b[0m def grad(\n",
            "\u001b[0;31mKeyboardInterrupt\u001b[0m: "
          ]
        }
      ]
    }
  ]
}